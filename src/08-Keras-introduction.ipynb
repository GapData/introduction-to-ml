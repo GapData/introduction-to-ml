{
 "cells": [
  {
   "cell_type": "markdown",
   "metadata": {},
   "source": [
    "# Introduction to Keras\n",
    "\n",
    "* high-level neural networks API, written in Python and capable of running on top of [TensorFlow](https://github.com/tensorflow/tensorflow), [CNTK](https://github.com/Microsoft/cntk), or [Theano](https://github.com/Theano/Theano)\n",
    "* Allows easy and fast prototyping\n",
    "* Runs seamlessly on CPU and GPU\n",
    "* open source\n",
    "* Documentation: [https://keras.io/](https://keras.io/)"
   ]
  },
  {
   "cell_type": "markdown",
   "metadata": {},
   "source": [
    "## installation\n",
    "First install the backend, for example [TensorFlow](https://www.tensorflow.org/install/).\n",
    "\n",
    "`$ pip install keras`"
   ]
  },
  {
   "cell_type": "markdown",
   "metadata": {},
   "source": [
    "## MNIST classification task\n",
    "\n",
    "The MNIST data set is a database of handwritten digits that is commonly used for training various image processing systems. The goal if this task is to implement a classifier of handwritten digits using neural networks."
   ]
  },
  {
   "cell_type": "markdown",
   "metadata": {},
   "source": [
    "![Mnist data set](images/mnist-examples.png)"
   ]
  },
  {
   "cell_type": "markdown",
   "metadata": {},
   "source": [
    "## Load the data\n",
    "\n",
    "The data is already shuffled and split to train and test parts."
   ]
  },
  {
   "cell_type": "code",
   "execution_count": 1,
   "metadata": {},
   "outputs": [
    {
     "name": "stderr",
     "output_type": "stream",
     "text": [
      "Using TensorFlow backend.\n"
     ]
    },
    {
     "name": "stdout",
     "output_type": "stream",
     "text": [
      "X_train original shape: (60000, 28, 28)\n",
      "y_train original shape: (60000,)\n",
      "X_test original shape: (10000, 28, 28)\n",
      "y_test original shape: (10000,)\n"
     ]
    }
   ],
   "source": [
    "from keras.datasets import mnist\n",
    "\n",
    "(X_train, y_train), (X_test, y_test) = mnist.load_data()\n",
    "\n",
    "print(\"X_train original shape: {}\".format(X_train.shape))\n",
    "print(\"y_train original shape: {}\".format(y_train.shape))\n",
    "print(\"X_test original shape: {}\".format(X_test.shape))\n",
    "print(\"y_test original shape: {}\".format(y_test.shape))"
   ]
  },
  {
   "cell_type": "markdown",
   "metadata": {},
   "source": [
    "Look at one random example."
   ]
  },
  {
   "cell_type": "code",
   "execution_count": 2,
   "metadata": {},
   "outputs": [
    {
     "data": {
      "image/png": "[encoded data removed]",
      "text/plain": [
       "<matplotlib.figure.Figure at 0x7f3578917240>"
      ]
     },
     "metadata": {},
     "output_type": "display_data"
    }
   ],
   "source": [
    "%matplotlib inline\n",
    "import matplotlib.pyplot as plt\n",
    "i=3495\n",
    "\n",
    "#print(X_train[i])\n",
    "plt.imshow(X_train[i], cmap='gray')\n",
    "plt.title(\"Class {}\".format(y_train[i]))\n",
    "plt.show()"
   ]
  },
  {
   "cell_type": "markdown",
   "metadata": {},
   "source": [
    "## Transform the data"
   ]
  },
  {
   "cell_type": "markdown",
   "metadata": {},
   "source": [
    "We need to scale the input values to have the range (0,1)."
   ]
  },
  {
   "cell_type": "code",
   "execution_count": 3,
   "metadata": {},
   "outputs": [],
   "source": [
    "X_train = X_train.astype('float32')\n",
    "X_test = X_test.astype('float32')\n",
    "X_train /= 255\n",
    "X_test /= 255"
   ]
  },
  {
   "cell_type": "markdown",
   "metadata": {},
   "source": [
    "Our neural-network is going to take a single vector for each training example, so we need to reshape the input so that each 28x28 image becomes a single 784 dimensional vector."
   ]
  },
  {
   "cell_type": "code",
   "execution_count": 4,
   "metadata": {},
   "outputs": [
    {
     "name": "stdout",
     "output_type": "stream",
     "text": [
      "X_train matrix shape: (60000, 784)\n",
      "X_test matrix shape: (10000, 784)\n"
     ]
    }
   ],
   "source": [
    "X_train_flat = X_train.reshape(60000, 784)\n",
    "X_test_flat = X_test.reshape(10000, 784)\n",
    "print(\"X_train matrix shape: {}\".format(X_train_flat.shape))\n",
    "print(\"X_test matrix shape: {}\".format(X_test_flat.shape))"
   ]
  },
  {
   "cell_type": "markdown",
   "metadata": {},
   "source": [
    "Transform the targets into one-hot encoding, i.e.\n",
    "```\n",
    "0 -> [1, 0, 0, 0, 0, 0, 0, 0, 0]\n",
    "1 -> [0, 1, 0, 0, 0, 0, 0, 0, 0]\n",
    "2 -> [0, 0, 1, 0, 0, 0, 0, 0, 0]\n",
    "```\n",
    "etc."
   ]
  },
  {
   "cell_type": "code",
   "execution_count": 5,
   "metadata": {},
   "outputs": [
    {
     "name": "stdout",
     "output_type": "stream",
     "text": [
      "3\n",
      "[0. 0. 0. 1. 0. 0. 0. 0. 0. 0.]\n"
     ]
    }
   ],
   "source": [
    "from keras.utils import np_utils\n",
    "\n",
    "n_classes = 10\n",
    "\n",
    "print(y_train[49])\n",
    "\n",
    "y_train = np_utils.to_categorical(y_train, n_classes)\n",
    "y_test = np_utils.to_categorical(y_test, n_classes)\n",
    "\n",
    "print(y_train[49])"
   ]
  },
  {
   "cell_type": "markdown",
   "metadata": {},
   "source": [
    "## Architecture of one-layer classifier for MNIST\n",
    "\n",
    "![Mnist data set](images/one-layer-nn.png)"
   ]
  },
  {
   "cell_type": "markdown",
   "metadata": {},
   "source": [
    "## Architecture definition\n",
    "\n",
    "Create a sequential model"
   ]
  },
  {
   "cell_type": "code",
   "execution_count": 6,
   "metadata": {},
   "outputs": [],
   "source": [
    "from keras.models import Sequential\n",
    "\n",
    "model = Sequential()"
   ]
  },
  {
   "cell_type": "markdown",
   "metadata": {},
   "source": [
    "Define its structure."
   ]
  },
  {
   "cell_type": "code",
   "execution_count": 7,
   "metadata": {},
   "outputs": [],
   "source": [
    "from keras.layers import Dense, Activation\n",
    "\n",
    "model.add(Dense(64, input_shape=(784, )))\n",
    "model.add(Activation('relu'))\n",
    "model.add(Dense(10))\n",
    "model.add(Activation('softmax'))"
   ]
  },
  {
   "cell_type": "markdown",
   "metadata": {},
   "source": [
    "Compile the model"
   ]
  },
  {
   "cell_type": "code",
   "execution_count": 8,
   "metadata": {},
   "outputs": [],
   "source": [
    "model.compile(loss='categorical_crossentropy',\n",
    "              optimizer='adam',\n",
    "              metrics=['accuracy'])"
   ]
  },
  {
   "cell_type": "markdown",
   "metadata": {},
   "source": [
    "## Train the model"
   ]
  },
  {
   "cell_type": "code",
   "execution_count": 9,
   "metadata": {},
   "outputs": [
    {
     "name": "stdout",
     "output_type": "stream",
     "text": [
      "Train on 60000 samples, validate on 10000 samples\n",
      "Epoch 1/5\n",
      "60000/60000 [==============================] - 1s 25us/step - loss: 0.4194 - acc: 0.8864 - val_loss: 0.2286 - val_acc: 0.9349\n",
      "Epoch 2/5\n",
      "60000/60000 [==============================] - 1s 24us/step - loss: 0.2028 - acc: 0.9429 - val_loss: 0.1730 - val_acc: 0.9511\n",
      "Epoch 3/5\n",
      "60000/60000 [==============================] - 1s 23us/step - loss: 0.1563 - acc: 0.9556 - val_loss: 0.1518 - val_acc: 0.9565\n",
      "Epoch 4/5\n",
      "60000/60000 [==============================] - 1s 24us/step - loss: 0.1277 - acc: 0.9638 - val_loss: 0.1245 - val_acc: 0.9637\n",
      "Epoch 5/5\n",
      "60000/60000 [==============================] - 1s 24us/step - loss: 0.1082 - acc: 0.9686 - val_loss: 0.1132 - val_acc: 0.9670\n"
     ]
    },
    {
     "data": {
      "text/plain": [
       "<keras.callbacks.History at 0x7f3579f56dd8>"
      ]
     },
     "execution_count": 9,
     "metadata": {},
     "output_type": "execute_result"
    }
   ],
   "source": [
    "model.fit(X_train_flat, y_train,\n",
    "          batch_size = 128, epochs = 5, verbose=1,\n",
    "          validation_data=(X_test_flat, y_test))"
   ]
  },
  {
   "cell_type": "markdown",
   "metadata": {},
   "source": [
    "## Evaluate the model\n",
    "\n",
    "First we need to convert probability vectors to class indices."
   ]
  },
  {
   "cell_type": "code",
   "execution_count": 10,
   "metadata": {},
   "outputs": [
    {
     "name": "stdout",
     "output_type": "stream",
     "text": [
      "(10000, 10)\n"
     ]
    }
   ],
   "source": [
    "y_pred = model.predict(X_test_flat)\n",
    "\n",
    "print(y_pred.shape)"
   ]
  },
  {
   "cell_type": "code",
   "execution_count": 11,
   "metadata": {},
   "outputs": [
    {
     "name": "stdout",
     "output_type": "stream",
     "text": [
      "(10000,)\n"
     ]
    }
   ],
   "source": [
    "import numpy as np\n",
    "\n",
    "y_test_class = np.argmax(y_test, axis=1)\n",
    "y_pred_class = np.argmax(y_pred, axis=1)\n",
    "print(y_pred_class.shape)"
   ]
  },
  {
   "cell_type": "markdown",
   "metadata": {},
   "source": [
    "We can use the scikit-learn functions now."
   ]
  },
  {
   "cell_type": "code",
   "execution_count": 12,
   "metadata": {},
   "outputs": [
    {
     "name": "stdout",
     "output_type": "stream",
     "text": [
      "Test accuracy: 0.9670\n",
      "\n",
      "             precision    recall  f1-score   support\n",
      "\n",
      "          0     0.9757    0.9837    0.9797       980\n",
      "          1     0.9851    0.9877    0.9864      1135\n",
      "          2     0.9624    0.9680    0.9652      1032\n",
      "          3     0.9653    0.9634    0.9643      1010\n",
      "          4     0.9780    0.9511    0.9644       982\n",
      "          5     0.9685    0.9652    0.9669       892\n",
      "          6     0.9590    0.9770    0.9679       958\n",
      "          7     0.9630    0.9630    0.9630      1028\n",
      "          8     0.9644    0.9466    0.9554       974\n",
      "          9     0.9473    0.9613    0.9543      1009\n",
      "\n",
      "avg / total     0.9671    0.9670    0.9670     10000\n",
      "\n"
     ]
    }
   ],
   "source": [
    "from sklearn import metrics\n",
    "from sklearn.metrics import accuracy_score\n",
    "\n",
    "\n",
    "print (\"Test accuracy: {:.4f}\".format(accuracy_score(y_test_class, y_pred_class)))\n",
    "print ()\n",
    "print(metrics.classification_report(y_test_class, y_pred_class, digits=4))"
   ]
  },
  {
   "cell_type": "code",
   "execution_count": 13,
   "metadata": {},
   "outputs": [
    {
     "name": "stdout",
     "output_type": "stream",
     "text": [
      "[[ 964    0    1    1    0    3    8    2    1    0]\n",
      " [   0 1121    3    1    0    1    4    0    5    0]\n",
      " [   5    1  999    2    2    1    4    9    8    1]\n",
      " [   0    0    9  973    0    6    0    7    7    8]\n",
      " [   1    0    5    0  934    0    9    4    3   26]\n",
      " [   6    0    0    8    2  861    7    2    3    3]\n",
      " [   6    3    2    1    2    5  936    1    2    0]\n",
      " [   0    5   16    4    0    1    0  990    2   10]\n",
      " [   3    1    2   12    7    8    7    6  922    6]\n",
      " [   3    7    1    6    8    3    1    7    3  970]]\n"
     ]
    }
   ],
   "source": [
    "from sklearn.metrics import confusion_matrix\n",
    "\n",
    "print(confusion_matrix(y_test_class, y_pred_class))"
   ]
  },
  {
   "cell_type": "code",
   "execution_count": 14,
   "metadata": {},
   "outputs": [
    {
     "name": "stdout",
     "output_type": "stream",
     "text": [
      "Train accuracy: 0.9731\n",
      "\n",
      "             precision    recall  f1-score   support\n",
      "\n",
      "          0     0.9893    0.9821    0.9857      5923\n",
      "          1     0.9773    0.9893    0.9833      6742\n",
      "          2     0.9651    0.9799    0.9724      5958\n",
      "          3     0.9838    0.9525    0.9679      6131\n",
      "          4     0.9788    0.9574    0.9680      5842\n",
      "          5     0.9723    0.9703    0.9713      5421\n",
      "          6     0.9708    0.9895    0.9801      5918\n",
      "          7     0.9748    0.9753    0.9750      6265\n",
      "          8     0.9706    0.9609    0.9657      5851\n",
      "          9     0.9481    0.9713    0.9596      5949\n",
      "\n",
      "avg / total     0.9732    0.9731    0.9731     60000\n",
      "\n"
     ]
    }
   ],
   "source": [
    "y_pred = model.predict(X_train_flat)\n",
    "y_pred_class = np.argmax(y_pred, axis=1)\n",
    "y_train_class = np.argmax(y_train, axis=1)\n",
    "\n",
    "print (\"Train accuracy: {:.4f}\".format(accuracy_score(y_train_class, y_pred_class)))\n",
    "print ()\n",
    "print(metrics.classification_report(y_train_class, y_pred_class, digits=4))"
   ]
  },
  {
   "cell_type": "markdown",
   "metadata": {},
   "source": [
    "# Convolutional neural network for MNIST classification"
   ]
  },
  {
   "cell_type": "markdown",
   "metadata": {},
   "source": [
    "## Reshape the input data"
   ]
  },
  {
   "cell_type": "code",
   "execution_count": 15,
   "metadata": {},
   "outputs": [],
   "source": [
    "X_train3d = X_train.reshape(60000, 28, 28, 1)\n",
    "X_test3d = X_test.reshape(10000, 28, 28, 1)"
   ]
  },
  {
   "cell_type": "markdown",
   "metadata": {},
   "source": [
    "## Architecture definition\n",
    "\n",
    "Create a sequential model and define its structure."
   ]
  },
  {
   "cell_type": "code",
   "execution_count": 16,
   "metadata": {},
   "outputs": [],
   "source": [
    "from keras.models import Sequential\n",
    "from keras.layers.core import Dense, Dropout, Activation, Flatten\n",
    "from keras.layers.convolutional import Conv2D, MaxPooling2D\n",
    "\n",
    "model = Sequential()\n",
    "\n",
    "model.add(Conv2D(16, kernel_size=(5, 5), input_shape=(28, 28, 1)))\n",
    "model.add(Activation('relu'))\n",
    "model.add(MaxPooling2D(pool_size=(2, 2)))\n",
    "model.add(Dense(32))\n",
    "model.add(Flatten())\n",
    "model.add(Activation('relu'))\n",
    "model.add(Dropout(0.5))\n",
    "model.add(Dense(10))\n",
    "model.add(Activation('softmax'))"
   ]
  },
  {
   "cell_type": "markdown",
   "metadata": {},
   "source": [
    "Compile the model."
   ]
  },
  {
   "cell_type": "code",
   "execution_count": 17,
   "metadata": {},
   "outputs": [],
   "source": [
    "model.compile(loss='categorical_crossentropy',\n",
    "              optimizer='adam',\n",
    "              metrics=['accuracy'])"
   ]
  },
  {
   "cell_type": "markdown",
   "metadata": {},
   "source": [
    "## Train the model"
   ]
  },
  {
   "cell_type": "code",
   "execution_count": 18,
   "metadata": {},
   "outputs": [
    {
     "name": "stdout",
     "output_type": "stream",
     "text": [
      "Train on 60000 samples, validate on 10000 samples\n",
      "Epoch 1/5\n",
      "60000/60000 [==============================] - 25s 420us/step - loss: 0.3467 - acc: 0.8968 - val_loss: 0.1057 - val_acc: 0.9688\n",
      "Epoch 2/5\n",
      "60000/60000 [==============================] - 22s 365us/step - loss: 0.1151 - acc: 0.9654 - val_loss: 0.0685 - val_acc: 0.9794\n",
      "Epoch 3/5\n",
      "60000/60000 [==============================] - 22s 360us/step - loss: 0.0885 - acc: 0.9732 - val_loss: 0.0578 - val_acc: 0.9830\n",
      "Epoch 4/5\n",
      "60000/60000 [==============================] - 22s 366us/step - loss: 0.0754 - acc: 0.9771 - val_loss: 0.0484 - val_acc: 0.9844\n",
      "Epoch 5/5\n",
      "60000/60000 [==============================] - 22s 365us/step - loss: 0.0667 - acc: 0.9795 - val_loss: 0.0495 - val_acc: 0.9844\n"
     ]
    },
    {
     "data": {
      "text/plain": [
       "<keras.callbacks.History at 0x7f357bdd5be0>"
      ]
     },
     "execution_count": 18,
     "metadata": {},
     "output_type": "execute_result"
    }
   ],
   "source": [
    "model.fit(X_train3d, y_train,\n",
    "          batch_size = 128, epochs = 5, verbose=1,\n",
    "          validation_data=(X_test3d, y_test))"
   ]
  },
  {
   "cell_type": "markdown",
   "metadata": {},
   "source": [
    "## Evaluate the model"
   ]
  },
  {
   "cell_type": "code",
   "execution_count": 19,
   "metadata": {},
   "outputs": [],
   "source": [
    "y_pred = model.predict(X_test3d)\n",
    "y_test_class = np.argmax(y_test, axis=1)\n",
    "y_pred_class = np.argmax(y_pred, axis=1)"
   ]
  },
  {
   "cell_type": "code",
   "execution_count": 20,
   "metadata": {},
   "outputs": [
    {
     "name": "stdout",
     "output_type": "stream",
     "text": [
      "Test accuracy: 0.9844\n",
      "\n",
      "             precision    recall  f1-score   support\n",
      "\n",
      "          0     0.9750    0.9959    0.9854       980\n",
      "          1     0.9877    0.9938    0.9908      1135\n",
      "          2     0.9742    0.9884    0.9812      1032\n",
      "          3     0.9900    0.9842    0.9871      1010\n",
      "          4     0.9938    0.9817    0.9877       982\n",
      "          5     0.9736    0.9922    0.9828       892\n",
      "          6     0.9947    0.9749    0.9847       958\n",
      "          7     0.9815    0.9786    0.9800      1028\n",
      "          8     0.9855    0.9784    0.9820       974\n",
      "          9     0.9880    0.9752    0.9815      1009\n",
      "\n",
      "avg / total     0.9845    0.9844    0.9844     10000\n",
      "\n"
     ]
    }
   ],
   "source": [
    "print (\"Test accuracy: {:.4f}\".format(accuracy_score(y_test_class, y_pred_class)))\n",
    "print ()\n",
    "print(metrics.classification_report(y_test_class, y_pred_class, digits=4))"
   ]
  },
  {
   "cell_type": "code",
   "execution_count": 21,
   "metadata": {},
   "outputs": [
    {
     "name": "stdout",
     "output_type": "stream",
     "text": [
      "[[ 976    0    2    0    0    0    0    1    1    0]\n",
      " [   0 1128    2    1    1    0    1    1    1    0]\n",
      " [   1    3 1020    0    1    0    1    4    2    0]\n",
      " [   0    0    3  994    0    6    0    4    3    0]\n",
      " [   1    1    2    0  964    0    1    1    2   10]\n",
      " [   2    0    0    4    0  885    1    0    0    0]\n",
      " [   8    2    0    1    1   11  934    0    1    0]\n",
      " [   1    3   13    2    0    1    0 1006    2    0]\n",
      " [   8    0    4    1    1    1    1    3  953    2]\n",
      " [   4    5    1    1    2    5    0    5    2  984]]\n"
     ]
    }
   ],
   "source": [
    "print(confusion_matrix(y_test_class, y_pred_class))"
   ]
  },
  {
   "cell_type": "code",
   "execution_count": 22,
   "metadata": {},
   "outputs": [
    {
     "name": "stdout",
     "output_type": "stream",
     "text": [
      "Train accuracy: 0.9863\n",
      "\n",
      "             precision    recall  f1-score   support\n",
      "\n",
      "          0     0.9879    0.9965    0.9922      5923\n",
      "          1     0.9921    0.9911    0.9916      6742\n",
      "          2     0.9773    0.9899    0.9836      5958\n",
      "          3     0.9922    0.9770    0.9845      6131\n",
      "          4     0.9953    0.9800    0.9876      5842\n",
      "          5     0.9755    0.9915    0.9834      5421\n",
      "          6     0.9939    0.9885    0.9912      5918\n",
      "          7     0.9798    0.9895    0.9846      6265\n",
      "          8     0.9840    0.9805    0.9823      5851\n",
      "          9     0.9838    0.9780    0.9809      5949\n",
      "\n",
      "avg / total     0.9863    0.9863    0.9863     60000\n",
      "\n"
     ]
    }
   ],
   "source": [
    "y_pred = model.predict(X_train3d)\n",
    "y_pred_class = np.argmax(y_pred, axis=1)\n",
    "y_train_class = np.argmax(y_train, axis=1)\n",
    "\n",
    "print (\"Train accuracy: {:.4f}\".format(accuracy_score(y_train_class, y_pred_class)))\n",
    "print ()\n",
    "print(metrics.classification_report(y_train_class, y_pred_class, digits=4))"
   ]
  },
  {
   "cell_type": "markdown",
   "metadata": {},
   "source": [
    "## Let's look at some incorrectly classified examples"
   ]
  },
  {
   "cell_type": "code",
   "execution_count": 23,
   "metadata": {},
   "outputs": [
    {
     "name": "stdout",
     "output_type": "stream",
     "text": [
      "[ 259  321  340  445  449  582  659  684  726  740  786  844  938  947\n",
      "  965 1014 1039 1112 1182 1226 1232 1242 1247 1260 1319 1326 1364 1393\n",
      " 1414 1500 1530 1709 1717 1754 1878 1901 1982 2016 2018 2043 2053 2107\n",
      " 2109 2118 2129 2130 2135 2182 2189 2266 2272 2280 2293 2329 2369 2387\n",
      " 2406 2454 2462 2488 2597 2607 2654 2836 2896 2921 2927 2939 2952 2953\n",
      " 2979 2995 3005 3030 3060 3073 3384 3422 3503 3520 3550 3558 3559 3597\n",
      " 3718 3767 3796 3808 3853 3906 4017 4063 4075 4163 4176 4224 4238 4248\n",
      " 4256 4265 4284 4500 4536 4571 4575 4639 4740 4761 4783 4807 4814 4838\n",
      " 4860 4874 4956 4966 5067 5068 5246 5642 5734 5749 5887 5888 5955 5973\n",
      " 6091 6505 6576 6597 6603 6625 6651 6783 7432 7434 7821 8059 8408 8527\n",
      " 9009 9015 9019 9024 9634 9664 9679 9692 9698 9729 9770 9792 9811 9839\n",
      " 9892 9905]\n"
     ]
    }
   ],
   "source": [
    "y_pred = model.predict(X_test3d)\n",
    "y_test_class = np.argmax(y_test, axis=1)\n",
    "y_pred_class = np.argmax(y_pred, axis=1)\n",
    "\n",
    "incorrect_indices = np.nonzero(y_pred_class != y_test_class)[0]\n",
    "print(incorrect_indices)"
   ]
  },
  {
   "cell_type": "code",
   "execution_count": 24,
   "metadata": {},
   "outputs": [
    {
     "data": {
      "image/png": "[encoded data removed]",
      "text/plain": [
       "<matplotlib.figure.Figure at 0x7f3574ca0828>"
      ]
     },
     "metadata": {},
     "output_type": "display_data"
    }
   ],
   "source": [
    "%matplotlib inline\n",
    "import matplotlib.pyplot as plt\n",
    "i = incorrect_indices[20]\n",
    "\n",
    "plt.imshow(X_test[i], cmap='gray')\n",
    "plt.title(\"Predicted: {}, Class: {}\".format(y_pred_class[i], y_test_class[i]))\n",
    "plt.show()"
   ]
  }
 ],
 "metadata": {
  "kernelspec": {
   "display_name": "Python 3",
   "language": "python",
   "name": "python3"
  },
  "language_info": {
   "codemirror_mode": {
    "name": "ipython",
    "version": 3
   },
   "file_extension": ".py",
   "mimetype": "text/x-python",
   "name": "python",
   "nbconvert_exporter": "python",
   "pygments_lexer": "ipython3",
   "version": "3.5.2"
  }
 },
 "nbformat": 4,
 "nbformat_minor": 2
}
